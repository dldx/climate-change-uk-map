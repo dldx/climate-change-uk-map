{
 "cells": [
  {
   "cell_type": "markdown",
   "metadata": {
    "toc": true
   },
   "source": [
    "<h1>Table of Contents<span class=\"tocSkip\"></span></h1>\n",
    "<div class=\"toc\" style=\"margin-top: 1em;\"><ul class=\"toc-item\"></ul></div>"
   ]
  },
  {
   "cell_type": "code",
   "execution_count": null,
   "metadata": {},
   "outputs": [],
   "source": [
    "using GeoStats\n",
    "using Proj4\n",
    "using DataFrames\n",
    "using DataFramesMeta\n",
    "using Feather\n",
    "using Arrow\n",
    "using Plots; gr(size=(2000,1000))\n",
    "using Reactive\n",
    "using Dates\n",
    "using ArchGDAL\n",
    "using Images"
   ]
  },
  {
   "cell_type": "code",
   "execution_count": null,
   "metadata": {},
   "outputs": [],
   "source": [
    "# Convert values not in right datetime format\n",
    "Dates.year(dt::Arrow.Datestamp) = Dates.year(convert(Date, dt))"
   ]
  },
  {
   "cell_type": "code",
   "execution_count": null,
   "metadata": {},
   "outputs": [],
   "source": [
    "# Load weather data\n",
    "all_station_data = Feather.read(\"all_stations.feather\")"
   ]
  },
  {
   "cell_type": "code",
   "execution_count": null,
   "metadata": {},
   "outputs": [],
   "source": [
    "# Get year from date\n",
    "all_station_data[:year] = map(d -> year(d), all_station_data[:date])\n",
    "all_station_data = @where(all_station_data, .!ismissing.(:year))\n",
    "all_station_data[:elevation_] = all_station_data[:altitude_m]"
   ]
  },
  {
   "cell_type": "code",
   "execution_count": null,
   "metadata": {},
   "outputs": [],
   "source": [
    "# Convert subdataframe to dataframe\n",
    "DataFrame(x::SubDataFrame) = DataFrames.DataFrame(Any[view(col, x.rows) for col in x.parent.columns], names(x))"
   ]
  },
  {
   "cell_type": "code",
   "execution_count": null,
   "metadata": {},
   "outputs": [],
   "source": [
    "# Define long lat airy coordinates\n",
    "longlat_airy = Proj4.Projection(\"+proj=longlat +ellps=airy +towgs84=0,0,0 +no_defs\")\n",
    "# Define Albers Equal Area coordinates\n",
    "aea = Projection(\"+proj=aea +ellps=WGS84 +lat_1=51.29427447728234 +lat_2=58.02853263411481 +lon_0=-4.482421875\")"
   ]
  },
  {
   "cell_type": "code",
   "execution_count": null,
   "metadata": {},
   "outputs": [],
   "source": [
    "longlat_wgs84 = Projection(\"+proj=longlat +datum=WGS84 +no_defs\")\n",
    "# osgb36 = Projection(\"+proj=tmerc +lat_0=49 +lon_0=-2 +k=0.999601 +x_0=400000 +y_0=-100000 +ellps=airy +units=m +no_defs +towgs84=446.448,-125.157,542.060,0.1502,0.2470,0.8421,-20.4894 \")"
   ]
  },
  {
   "cell_type": "code",
   "execution_count": null,
   "metadata": {},
   "outputs": [],
   "source": [
    "scale_between(array, from_range, to_range) = (array - from_range[1])/(to_range[2] - from_range[1]) * to_range[2] + to_range[1]"
   ]
  },
  {
   "cell_type": "code",
   "execution_count": null,
   "metadata": {},
   "outputs": [],
   "source": [
    "# Get elevation data from GeoTiff\n",
    "elevation_data, geotransform = ArchGDAL.registerdrivers() do\n",
    "   ArchGDAL.read(\"Data/uk_srtm/uk.tif\") do dataset\n",
    "       ArchGDAL.read(dataset, 1),\n",
    "       ArchGDAL.getgeotransform(dataset)\n",
    "   end\n",
    "end"
   ]
  },
  {
   "cell_type": "code",
   "execution_count": null,
   "metadata": {},
   "outputs": [],
   "source": [
    "# These are the bounds and pixel sizes for the geotiff in the albers projection\n",
    "x_min = geotransform[1]\n",
    "x_res = geotransform[2]\n",
    "y_max = geotransform[4]\n",
    "y_res = geotransform[6]"
   ]
  },
  {
   "cell_type": "code",
   "execution_count": null,
   "metadata": {},
   "outputs": [],
   "source": [
    "# These helper functions extract the elevation data from the GeoTiff\n",
    "row_index(y::Number) = Int(fld(y - y_max, y_res)) + 1\n",
    "column_index(x::Number) = Int(fld(x - x_min, x_res)) + 1"
   ]
  },
  {
   "cell_type": "code",
   "execution_count": null,
   "metadata": {},
   "outputs": [],
   "source": [
    "function get_elevation(elevation_data, x::Number, y::Number)\n",
    "    c = column_index(x)\n",
    "    r = row_index(y)\n",
    "    try\n",
    "        elevation_data[c, r]\n",
    "    catch\n",
    "        # println(\"Out of bounds: \", (x, y))\n",
    "        return 0.0\n",
    "    end\n",
    "end"
   ]
  },
  {
   "cell_type": "code",
   "execution_count": null,
   "metadata": {
    "lines_to_next_cell": 2
   },
   "outputs": [],
   "source": [
    "function get_elevation(elevation_data, x::Array{Number, 1}, y::Array{Number, 1})\n",
    "    map(d -> get_elevation(elevation_data, d[1], d[2]), zip(x, y))\n",
    "end"
   ]
  },
  {
   "cell_type": "code",
   "execution_count": null,
   "metadata": {},
   "outputs": [],
   "source": [
    "# This is a reactive signal\n",
    "year_signal = Signal(1941)"
   ]
  },
  {
   "cell_type": "code",
   "execution_count": null,
   "metadata": {},
   "outputs": [],
   "source": [
    "# This station subsets the initial dataframe and gets data for a single year, and also reprojects it into the Albers projection\n",
    "function get_station_data_for_year(all_station_data :: DataFrames.DataFrame, input_year :: Int)\n",
    "    station_data = @by(@where(all_station_data, :year .== input_year), :station, lat = first(:lat), long=first(:long), tmean_C = mean(:tmean_C))\n",
    "\n",
    "    coords = Proj4.transform(longlat_wgs84, aea, convert(Array, station_data[[:long, :lat]]))\n",
    "\n",
    "    station_data[:x] = coords[:, 1]\n",
    "    station_data[:y] = coords[:, 2]\n",
    "\n",
    "    station_data[:elevation] = map(d -> get_elevation(elevation_data, d[1], d[2]), zip(station_data[:x], station_data[:y]))\n",
    "\n",
    "    # Remove stations that are outside the elevation data domain\n",
    "    station_data = @where(station_data, :elevation .> 0, .!ismissing.(:tmean_C))\n",
    "\n",
    "    return station_data\n",
    "end"
   ]
  },
  {
   "cell_type": "code",
   "execution_count": null,
   "metadata": {},
   "outputs": [],
   "source": [
    "# This function does all the interpolation between stations for a particular year\n",
    "function interpolate_stations(all_station_data :: DataFrames.DataFrame, input_year :: Int)\n",
    "    station_data = get_station_data_for_year(all_station_data, input_year)\n",
    "    # Convert station data to a geo data frame\n",
    "    geodata = GeoDataFrame(station_data, [:x, :y])\n",
    "\n",
    "\n",
    "    # Domain for kriging interpolation\n",
    "    # domain = RegularGrid{Float64}(div.(size(elevation_data), 10))\n",
    "    domain = RegularGrid(collect(div.(size(elevation_data), 10)), [x_min, y_max + size(elevation_data)[2]*y_res], 10*[x_res,-y_res])\n",
    "\n",
    "    # return geodata, domain\n",
    "\n",
    "    problem = EstimationProblem(geodata, domain, :tmean_C)\n",
    "    solver = Kriging(:tmean_C => @NT(variogram=γtheo, drifts=[x -> 1, x -> get_elevation(elevation_data, x[1], x[2])]))\n",
    "\n",
    "    solution = solve(problem, solver)\n",
    "    digest(solution)\n",
    "\n",
    "    Plots.plot(solution, c=:inferno, clim=(5,15))\n",
    "    return Plots.scatter!(\n",
    "        column_index.(station_data[:x])./10,\n",
    "        domain.dims[2] - row_index.(station_data[:y])./10,\n",
    "        series_annotations = text.(station_data[:station], font(8)),\n",
    "        legend=false)\n",
    "    # display(Plots.scatter!(station_data[:x], station_data[:y]))\n",
    "    #return solution, station_data\n",
    "end"
   ]
  },
  {
   "cell_type": "markdown",
   "metadata": {},
   "source": [
    "This transforms a reactive signal into a resulting graph\n",
    "map(value -> interpolate_stations(all_station_data, value), year_signal)"
   ]
  },
  {
   "cell_type": "markdown",
   "metadata": {},
   "source": [
    "for i in 1941:10:2011\n",
    "       push!(year_signal, i)\n",
    "       sleep(2)\n",
    "end\n",
    "\n",
    "Plots.heatmap(max(rotl90(imresize(elevation_data, div.(size(elevation_data), 2))), 0), aspect_ratio=1)\n",
    "Plots.scatter!(coords[:col]./2, (size(elevation_data)[2] - coords[:row])./2)"
   ]
  }
 ],
 "metadata": {
  "kernelspec": {
   "display_name": "Julia 0.6.4",
   "language": "julia",
   "name": "julia-0.6"
  },
  "language_info": {
   "codemirror_mode": {
    "name": "ipython",
    "version": 3
   },
   "file_extension": ".py",
   "mimetype": "text/x-python",
   "name": "python",
   "nbconvert_exporter": "python",
   "pygments_lexer": "ipython3",
   "version": "3.5.2"
  },
  "main_language": "julia",
  "toc": {
   "nav_menu": {},
   "number_sections": true,
   "sideBar": false,
   "skip_h1_title": true,
   "toc_cell": true,
   "toc_position": {},
   "toc_section_display": "block",
   "toc_window_display": true
  }
 },
 "nbformat": 4,
 "nbformat_minor": 2
}
